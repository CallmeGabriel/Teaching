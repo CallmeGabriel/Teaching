{
 "cells": [
  {
   "cell_type": "code",
   "execution_count": 1,
   "metadata": {},
   "outputs": [
    {
     "data": {
      "text/plain": [
       "4×4 Array{Float64,2}:\n",
       " 2.0  1.0  1.0  0.0\n",
       " 4.0  3.0  3.0  1.0\n",
       " 8.0  7.0  9.0  5.0\n",
       " 6.0  7.0  9.0  8.0"
      ]
     },
     "execution_count": 1,
     "metadata": {},
     "output_type": "execute_result"
    }
   ],
   "source": [
    "using LinearAlgebra\n",
    "A = [2 1 1 0.0; 4 3 3 1; 8 7 9 5; 6 7 9 8]"
   ]
  },
  {
   "cell_type": "code",
   "execution_count": 2,
   "metadata": {},
   "outputs": [
    {
     "data": {
      "text/plain": [
       "Id (generic function with 1 method)"
      ]
     },
     "execution_count": 2,
     "metadata": {},
     "output_type": "execute_result"
    }
   ],
   "source": [
    "function Id(n)\n",
    "    Id = zeros(n,n)\n",
    "    for i = 1:n\n",
    "        Id[i,i] = 1.0\n",
    "    end\n",
    "    return Id\n",
    "end"
   ]
  },
  {
   "cell_type": "code",
   "execution_count": 3,
   "metadata": {},
   "outputs": [
    {
     "data": {
      "text/plain": [
       "LU (generic function with 1 method)"
      ]
     },
     "execution_count": 3,
     "metadata": {},
     "output_type": "execute_result"
    }
   ],
   "source": [
    "function LU(A)\n",
    "    m = size(A)[1]\n",
    "    U = copy(A)\n",
    "    L = Id(m)\n",
    "    \n",
    "    for k = 1:m-1\n",
    "        for j = k+1:m\n",
    "            L[j,k] = U[j,k]/U[k,k]\n",
    "            U[j,k:m] = U[j,k:m] - L[j,k]*U[k,k:m]\n",
    "        end\n",
    "    end \n",
    "    \n",
    "    return L, U\n",
    "end"
   ]
  },
  {
   "cell_type": "code",
   "execution_count": 4,
   "metadata": {},
   "outputs": [
    {
     "data": {
      "text/plain": [
       "([1.0 0.0 0.0 0.0; 2.0 1.0 0.0 0.0; 4.0 3.0 1.0 0.0; 3.0 4.0 1.0 1.0], [2.0 1.0 1.0 0.0; 0.0 1.0 1.0 1.0; 0.0 0.0 2.0 2.0; 0.0 0.0 0.0 2.0])"
      ]
     },
     "execution_count": 4,
     "metadata": {},
     "output_type": "execute_result"
    }
   ],
   "source": [
    "L, U = LU(A)"
   ]
  },
  {
   "cell_type": "code",
   "execution_count": 5,
   "metadata": {},
   "outputs": [
    {
     "data": {
      "text/plain": [
       "4×4 Array{Float64,2}:\n",
       " 1.0  0.0  0.0  0.0\n",
       " 2.0  1.0  0.0  0.0\n",
       " 4.0  3.0  1.0  0.0\n",
       " 3.0  4.0  1.0  1.0"
      ]
     },
     "execution_count": 5,
     "metadata": {},
     "output_type": "execute_result"
    }
   ],
   "source": [
    "L"
   ]
  },
  {
   "cell_type": "code",
   "execution_count": 6,
   "metadata": {},
   "outputs": [
    {
     "data": {
      "text/plain": [
       "4×4 Array{Float64,2}:\n",
       " 2.0  1.0  1.0  0.0\n",
       " 0.0  1.0  1.0  1.0\n",
       " 0.0  0.0  2.0  2.0\n",
       " 0.0  0.0  0.0  2.0"
      ]
     },
     "execution_count": 6,
     "metadata": {},
     "output_type": "execute_result"
    }
   ],
   "source": [
    "U"
   ]
  },
  {
   "cell_type": "code",
   "execution_count": 7,
   "metadata": {},
   "outputs": [
    {
     "data": {
      "text/plain": [
       "4×4 Array{Float64,2}:\n",
       " 2.0  1.0  1.0  0.0\n",
       " 4.0  3.0  3.0  1.0\n",
       " 8.0  7.0  9.0  5.0\n",
       " 6.0  7.0  9.0  8.0"
      ]
     },
     "execution_count": 7,
     "metadata": {},
     "output_type": "execute_result"
    }
   ],
   "source": [
    "A"
   ]
  },
  {
   "cell_type": "code",
   "execution_count": 8,
   "metadata": {},
   "outputs": [
    {
     "data": {
      "text/plain": [
       "0.0"
      ]
     },
     "execution_count": 8,
     "metadata": {},
     "output_type": "execute_result"
    }
   ],
   "source": [
    "norm(A - L*U)"
   ]
  },
  {
   "cell_type": "code",
   "execution_count": 9,
   "metadata": {},
   "outputs": [
    {
     "data": {
      "text/plain": [
       "forward_solve (generic function with 1 method)"
      ]
     },
     "execution_count": 9,
     "metadata": {},
     "output_type": "execute_result"
    }
   ],
   "source": [
    "function forward_solve(L, b)\n",
    "    m = size(L)[1]\n",
    "    c = zeros(m)\n",
    "    c[1] = b[1]/L[1,1]\n",
    "    \n",
    "    for k = 2:m\n",
    "        c[k] = (b[k] - (sum([L[k,i]*c[i] for i = 1:k-1])))/L[k,k]\n",
    "    end\n",
    "    \n",
    "    return c\n",
    "end\n",
    "\n",
    "        "
   ]
  },
  {
   "cell_type": "code",
   "execution_count": 10,
   "metadata": {},
   "outputs": [
    {
     "data": {
      "text/plain": [
       "back_solve (generic function with 1 method)"
      ]
     },
     "execution_count": 10,
     "metadata": {},
     "output_type": "execute_result"
    }
   ],
   "source": [
    "function back_solve(U,b)\n",
    "    m = size(U)[1]\n",
    "    x = zeros(m)\n",
    "    x[m] = b[m]/U[m,m]\n",
    "    \n",
    "    for k = m-1:-1:1\n",
    "        x[k] = (b[k] - (sum([U[k,i]*x[i] for i = k+1:m])))/U[k,k]\n",
    "    end\n",
    "    \n",
    "    return x\n",
    "end    "
   ]
  },
  {
   "cell_type": "code",
   "execution_count": 11,
   "metadata": {},
   "outputs": [
    {
     "data": {
      "text/plain": [
       "solve_system (generic function with 1 method)"
      ]
     },
     "execution_count": 11,
     "metadata": {},
     "output_type": "execute_result"
    }
   ],
   "source": [
    "function solve_system(A,b)\n",
    "    L,U = LU(A)\n",
    "    c = forward_solve(L,b)\n",
    "    x = back_solve(U,c)\n",
    "    return x\n",
    "end\n"
   ]
  },
  {
   "cell_type": "code",
   "execution_count": 13,
   "metadata": {},
   "outputs": [],
   "source": [
    "A = rand(1000, 1000)\n",
    "b = rand(1000);"
   ]
  },
  {
   "cell_type": "code",
   "execution_count": 14,
   "metadata": {},
   "outputs": [
    {
     "data": {
      "text/plain": [
       "1000-element Array{Float64,1}:\n",
       " -1.0810366609249664 \n",
       " -0.2221433516438385 \n",
       "  0.6129398841078271 \n",
       "  0.8865206534449267 \n",
       "  1.4738159392935553 \n",
       " -5.3752038211477045 \n",
       " -1.0316680820800177 \n",
       " -1.1554136034332727 \n",
       " -0.17369209401816638\n",
       " -2.095905852446741  \n",
       " -2.433155373803495  \n",
       " -1.8338148232529852 \n",
       "  0.25476689856920154\n",
       "  ⋮                  \n",
       " -1.574562070221605  \n",
       " -0.6219362611931326 \n",
       " -0.4341445066067153 \n",
       "  1.6219798580657003 \n",
       " -0.6023878522967444 \n",
       "  0.9900054987818439 \n",
       " -0.8834751642448773 \n",
       "  1.8805364155557407 \n",
       "  0.47779042686851975\n",
       "  1.0186295046646645 \n",
       " -1.117435228533178  \n",
       " -0.909307526172637  "
      ]
     },
     "execution_count": 14,
     "metadata": {},
     "output_type": "execute_result"
    }
   ],
   "source": [
    "x0 = solve_system(A,b)"
   ]
  },
  {
   "cell_type": "code",
   "execution_count": 15,
   "metadata": {},
   "outputs": [
    {
     "data": {
      "text/plain": [
       "1000-element Array{Float64,1}:\n",
       " -1.081036660852017  \n",
       " -0.2221433516664555 \n",
       "  0.6129398840220908 \n",
       "  0.8865206534283047 \n",
       "  1.4738159391357537 \n",
       " -5.3752038206983555 \n",
       " -1.0316680819850117 \n",
       " -1.1554136032486615 \n",
       " -0.17369209407073072\n",
       " -2.0959058522551053 \n",
       " -2.4331553735505276 \n",
       " -1.8338148231907578 \n",
       "  0.2547668985627581 \n",
       "  ⋮                  \n",
       " -1.5745620701264933 \n",
       " -0.6219362611777999 \n",
       " -0.4341445065199248 \n",
       "  1.621979857952328  \n",
       " -0.6023878522224662 \n",
       "  0.9900054986622004 \n",
       " -0.8834751641542521 \n",
       "  1.8805364153537811 \n",
       "  0.47779042686600254\n",
       "  1.0186295045826241 \n",
       " -1.1174352284298352 \n",
       " -0.9093075261564023 "
      ]
     },
     "execution_count": 15,
     "metadata": {},
     "output_type": "execute_result"
    }
   ],
   "source": [
    "x1 = A\\b"
   ]
  },
  {
   "cell_type": "code",
   "execution_count": 16,
   "metadata": {},
   "outputs": [
    {
     "data": {
      "text/plain": [
       "4.421595827727972e-9"
      ]
     },
     "execution_count": 16,
     "metadata": {},
     "output_type": "execute_result"
    }
   ],
   "source": [
    "norm(x0 - x1)"
   ]
  },
  {
   "cell_type": "code",
   "execution_count": 19,
   "metadata": {},
   "outputs": [
    {
     "data": {
      "text/plain": [
       "10000-element Array{Float64,1}:\n",
       " 0.6265892205726846  \n",
       " 0.9146557091743297  \n",
       " 0.6142949741386707  \n",
       " 0.12953370245260887 \n",
       " 0.44600760299293585 \n",
       " 0.006371931298176925\n",
       " 0.5653273265881993  \n",
       " 0.23900079530802132 \n",
       " 0.760543112018381   \n",
       " 0.14631941338494103 \n",
       " 0.006370844350734872\n",
       " 0.03032815343996731 \n",
       " 0.7624345929369936  \n",
       " ⋮                   \n",
       " 0.582915165256634   \n",
       " 0.306272721875553   \n",
       " 0.12987348124364773 \n",
       " 0.11666605914151584 \n",
       " 0.487256294870674   \n",
       " 0.9193698376202364  \n",
       " 0.2564882233175809  \n",
       " 0.39100712190434694 \n",
       " 0.34898515618737336 \n",
       " 0.44607963080735225 \n",
       " 0.6111626558495529  \n",
       " 0.3863720925946843  "
      ]
     },
     "execution_count": 19,
     "metadata": {},
     "output_type": "execute_result"
    }
   ],
   "source": [
    "A = rand(10000, 10000)\n",
    "b = rand(10000)"
   ]
  },
  {
   "cell_type": "code",
   "execution_count": 20,
   "metadata": {},
   "outputs": [
    {
     "ename": "InterruptException",
     "evalue": "InterruptException:",
     "output_type": "error",
     "traceback": [
      "InterruptException:",
      "",
      "Stacktrace:",
      " [1] materialize at ./boot.jl:394 [inlined]",
      " [2] broadcast(::typeof(-), ::Array{Float64,1}, ::Array{Float64,1}) at ./broadcast.jl:710",
      " [3] LU at ./arraymath.jl:39 [inlined]",
      " [4] solve_system(::Array{Float64,2}, ::Array{Float64,1}) at ./In[11]:2",
      " [5] top-level scope at In[20]:1"
     ]
    }
   ],
   "source": [
    "x0 = solve_system(A,b)"
   ]
  },
  {
   "cell_type": "code",
   "execution_count": null,
   "metadata": {},
   "outputs": [],
   "source": []
  }
 ],
 "metadata": {
  "kernelspec": {
   "display_name": "Julia 1.0.3",
   "language": "julia",
   "name": "julia-1.0"
  },
  "language_info": {
   "file_extension": ".jl",
   "mimetype": "application/julia",
   "name": "julia",
   "version": "1.0.3"
  }
 },
 "nbformat": 4,
 "nbformat_minor": 2
}
