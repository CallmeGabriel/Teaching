{
 "cells": [
  {
   "cell_type": "code",
   "execution_count": 1,
   "metadata": {},
   "outputs": [
    {
     "data": {
      "text/plain": [
       "4×4 Array{Float64,2}:\n",
       " 2.0  1.0  1.0  0.0\n",
       " 4.0  3.0  3.0  1.0\n",
       " 8.0  7.0  9.0  5.0\n",
       " 6.0  7.0  9.0  8.0"
      ]
     },
     "execution_count": 1,
     "metadata": {},
     "output_type": "execute_result"
    }
   ],
   "source": [
    "using LinearAlgebra\n",
    "A = [2 1 1 0.0; 4 3 3 1; 8 7 9 5; 6 7 9 8]"
   ]
  },
  {
   "cell_type": "code",
   "execution_count": 2,
   "metadata": {},
   "outputs": [
    {
     "data": {
      "text/plain": [
       "Id (generic function with 1 method)"
      ]
     },
     "execution_count": 2,
     "metadata": {},
     "output_type": "execute_result"
    }
   ],
   "source": [
    "function Id(n)\n",
    "    Id = zeros(n,n)\n",
    "    for i = 1:n\n",
    "        Id[i,i] = 1.0\n",
    "    end\n",
    "    return Id\n",
    "end"
   ]
  },
  {
   "cell_type": "code",
   "execution_count": 3,
   "metadata": {},
   "outputs": [
    {
     "data": {
      "text/plain": [
       "LU (generic function with 1 method)"
      ]
     },
     "execution_count": 3,
     "metadata": {},
     "output_type": "execute_result"
    }
   ],
   "source": [
    "function LU!(A)\n",
    "    m = size(A)[1]\n",
    "    U = A\n",
    "    L = Id(m)\n",
    "    \n",
    "    for k = 1:m-1\n",
    "        for j = k+1:m\n",
    "            L[j,k] = U[j,k]/U[k,k]\n",
    "            U[j,k:m] = U[j,k:m] - L[j,k]*U[k,k:m]\n",
    "        end\n",
    "    end \n",
    "    \n",
    "    return L, U\n",
    "end"
   ]
  },
  {
   "cell_type": "code",
   "execution_count": 4,
   "metadata": {},
   "outputs": [
    {
     "data": {
      "text/plain": [
       "([1.0 0.0 0.0 0.0; 2.0 1.0 0.0 0.0; 4.0 3.0 1.0 0.0; 3.0 4.0 1.0 1.0], [2.0 1.0 1.0 0.0; 0.0 1.0 1.0 1.0; 0.0 0.0 2.0 2.0; 0.0 0.0 0.0 2.0])"
      ]
     },
     "execution_count": 4,
     "metadata": {},
     "output_type": "execute_result"
    }
   ],
   "source": [
    "L, U = LU(A)"
   ]
  },
  {
   "cell_type": "code",
   "execution_count": 5,
   "metadata": {},
   "outputs": [
    {
     "data": {
      "text/plain": [
       "4×4 Array{Float64,2}:\n",
       " 1.0  0.0  0.0  0.0\n",
       " 2.0  1.0  0.0  0.0\n",
       " 4.0  3.0  1.0  0.0\n",
       " 3.0  4.0  1.0  1.0"
      ]
     },
     "execution_count": 5,
     "metadata": {},
     "output_type": "execute_result"
    }
   ],
   "source": [
    "L"
   ]
  },
  {
   "cell_type": "code",
   "execution_count": 6,
   "metadata": {},
   "outputs": [
    {
     "data": {
      "text/plain": [
       "4×4 Array{Float64,2}:\n",
       " 2.0  1.0  1.0  0.0\n",
       " 0.0  1.0  1.0  1.0\n",
       " 0.0  0.0  2.0  2.0\n",
       " 0.0  0.0  0.0  2.0"
      ]
     },
     "execution_count": 6,
     "metadata": {},
     "output_type": "execute_result"
    }
   ],
   "source": [
    "U"
   ]
  },
  {
   "cell_type": "code",
   "execution_count": 8,
   "metadata": {},
   "outputs": [
    {
     "data": {
      "text/plain": [
       "4×4 Array{Float64,2}:\n",
       " 2.0  1.0  1.0  0.0\n",
       " 4.0  3.0  3.0  1.0\n",
       " 8.0  7.0  9.0  5.0\n",
       " 6.0  7.0  9.0  8.0"
      ]
     },
     "execution_count": 8,
     "metadata": {},
     "output_type": "execute_result"
    }
   ],
   "source": [
    "L*U"
   ]
  },
  {
   "cell_type": "code",
   "execution_count": 9,
   "metadata": {},
   "outputs": [
    {
     "data": {
      "text/plain": [
       "4×4 Array{Float64,2}:\n",
       " 2.0  1.0  1.0  0.0\n",
       " 0.0  1.0  1.0  1.0\n",
       " 0.0  0.0  2.0  2.0\n",
       " 0.0  0.0  0.0  2.0"
      ]
     },
     "execution_count": 9,
     "metadata": {},
     "output_type": "execute_result"
    }
   ],
   "source": [
    "A"
   ]
  },
  {
   "cell_type": "code",
   "execution_count": null,
   "metadata": {},
   "outputs": [],
   "source": []
  }
 ],
 "metadata": {
  "kernelspec": {
   "display_name": "Julia 1.0.3",
   "language": "julia",
   "name": "julia-1.0"
  },
  "language_info": {
   "file_extension": ".jl",
   "mimetype": "application/julia",
   "name": "julia",
   "version": "1.0.3"
  }
 },
 "nbformat": 4,
 "nbformat_minor": 2
}
