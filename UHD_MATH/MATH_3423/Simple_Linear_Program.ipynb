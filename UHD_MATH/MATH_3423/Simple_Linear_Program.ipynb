{
 "cells": [
  {
   "cell_type": "code",
   "execution_count": 1,
   "metadata": {},
   "outputs": [],
   "source": [
    "using JuMP, Cbc"
   ]
  },
  {
   "cell_type": "code",
   "execution_count": 2,
   "metadata": {},
   "outputs": [
    {
     "data": {
      "text/latex": [
       "$$ \\begin{alignat*}{1}\\min\\quad & 0\\\\\n",
       "\\text{Subject to} \\quad\\end{alignat*}\n",
       " $$"
      ],
      "text/plain": [
       "Feasibility problem with:\n",
       " * 0 linear constraints\n",
       " * 0 variables\n",
       "Solver is Cbc"
      ]
     },
     "execution_count": 2,
     "metadata": {},
     "output_type": "execute_result"
    }
   ],
   "source": [
    "# Set empty model\n",
    "m = Model(solver=CbcSolver())"
   ]
  },
  {
   "cell_type": "code",
   "execution_count": 3,
   "metadata": {},
   "outputs": [],
   "source": [
    "c = [1;2;3]\n",
    "A = [-1 1 3; 1 3 -7]\n",
    "b = [-5;10];"
   ]
  },
  {
   "cell_type": "code",
   "execution_count": 4,
   "metadata": {},
   "outputs": [
    {
     "data": {
      "text/latex": [
       "$$ x_{i} \\geq 0 \\quad\\forall i \\in \\{1,2,3\\} $$"
      ],
      "text/plain": [
       "3-element Array{Variable,1}:\n",
       " x[1]\n",
       " x[2]\n",
       " x[3]"
      ]
     },
     "execution_count": 4,
     "metadata": {},
     "output_type": "execute_result"
    }
   ],
   "source": [
    "@variable(m, x[1:3] >= 0)"
   ]
  },
  {
   "cell_type": "code",
   "execution_count": 5,
   "metadata": {},
   "outputs": [
    {
     "data": {
      "text/latex": [
       "$$ x_{1} + 2 x_{2} + 3 x_{3} $$"
      ],
      "text/plain": [
       "x[1] + 2 x[2] + 3 x[3]"
      ]
     },
     "execution_count": 5,
     "metadata": {},
     "output_type": "execute_result"
    }
   ],
   "source": [
    "@objective(m, Max, sum(c[i]*x[i] for i=1:3))"
   ]
  },
  {
   "cell_type": "code",
   "execution_count": 6,
   "metadata": {},
   "outputs": [
    {
     "data": {
      "text/plain": [
       "2-element Array{ConstraintRef,1}:\n",
       " -x[1] + x[2] + 3 x[3] ≤ -5 \n",
       " x[1] + 3 x[2] - 7 x[3] ≤ 10"
      ]
     },
     "execution_count": 6,
     "metadata": {},
     "output_type": "execute_result"
    }
   ],
   "source": [
    "@constraint(m, constriant[j=1:2], sum(A[j,i]*x[i] for i =1:3) <= b[j])"
   ]
  },
  {
   "cell_type": "code",
   "execution_count": 7,
   "metadata": {},
   "outputs": [
    {
     "data": {
      "text/latex": [
       "$$ x_{1} \\leq 10 $$"
      ],
      "text/plain": [
       "x[1] ≤ 10"
      ]
     },
     "execution_count": 7,
     "metadata": {},
     "output_type": "execute_result"
    }
   ],
   "source": [
    "@constraint(m, bound, x[1] <= 10)"
   ]
  },
  {
   "cell_type": "code",
   "execution_count": 8,
   "metadata": {},
   "outputs": [
    {
     "data": {
      "text/plain": [
       ":Optimal"
      ]
     },
     "execution_count": 8,
     "metadata": {},
     "output_type": "execute_result"
    }
   ],
   "source": [
    "solve(m)"
   ]
  },
  {
   "cell_type": "code",
   "execution_count": 9,
   "metadata": {},
   "outputs": [
    {
     "data": {
      "text/latex": [
       "$$ \\begin{alignat*}{1}\\max\\quad & x_{1} + 2 x_{2} + 3 x_{3}\\\\\n",
       "\\text{Subject to} \\quad & -x_{1} + x_{2} + 3 x_{3} \\leq -5\\\\\n",
       " & x_{1} + 3 x_{2} - 7 x_{3} \\leq 10\\\\\n",
       " & x_{1} \\leq 10\\\\\n",
       " & x_{i} \\geq 0 \\quad\\forall i \\in \\{1,2,3\\}\\\\\n",
       "\\end{alignat*}\n",
       " $$"
      ],
      "text/plain": [
       "Maximization problem with:\n",
       " * 3 linear constraints\n",
       " * 3 variables\n",
       "Solver is Cbc"
      ]
     },
     "execution_count": 9,
     "metadata": {},
     "output_type": "execute_result"
    }
   ],
   "source": [
    "m"
   ]
  },
  {
   "cell_type": "code",
   "execution_count": 11,
   "metadata": {},
   "outputs": [
    {
     "name": "stdout",
     "output_type": "stream",
     "text": [
      "Optimal Solution:\n",
      "x[1] = 10.0\n",
      "x[2] = 2.1875\n",
      "x[3] = 0.9374999999999999\n"
     ]
    }
   ],
   "source": [
    "println(\"Optimal Solution:\")\n",
    "for i = 1:3\n",
    "    println(\"x[$i] = \", getvalue(x[i]))\n",
    "end"
   ]
  },
  {
   "cell_type": "code",
   "execution_count": null,
   "metadata": {},
   "outputs": [],
   "source": []
  }
 ],
 "metadata": {
  "@webio": {
   "lastCommId": "ba187de9711d4bfbaad63eff4340867e",
   "lastKernelId": "06f525f3-04e0-4536-b040-6d8490337c3b"
  },
  "kernelspec": {
   "display_name": "Julia 1.0.3",
   "language": "julia",
   "name": "julia-1.0"
  },
  "language_info": {
   "file_extension": ".jl",
   "mimetype": "application/julia",
   "name": "julia",
   "version": "1.0.3"
  }
 },
 "nbformat": 4,
 "nbformat_minor": 2
}
