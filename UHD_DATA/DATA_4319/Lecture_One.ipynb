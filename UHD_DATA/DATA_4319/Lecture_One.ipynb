{
 "cells": [
  {
   "cell_type": "markdown",
   "metadata": {},
   "source": [
    "# DATA 4319 (Statistical & Machine Learning)\n",
    "## Lecture 1. The Perceptron Learning Model\n",
    "\n",
    "In this notebook we will implement the perceptron learning model in order to classify data from the [iris data set](https://en.wikipedia.org/wiki/Iris_flower_data_set). Our task is to predict the species of flower based off of measurements of sepeal length and width. This task is often referred to as the ''Hello World'' of machine learning .  \n",
    "\n",
    "You will need to import the following packages:\n",
    "- CSV [(documentation)](https://juliadata.github.io/CSV.jl/stable/)\n",
    "- Plots [(documentation)](http://docs.juliaplots.org/latest/) \n",
    "\n"
   ]
  },
  {
   "cell_type": "code",
   "execution_count": null,
   "metadata": {},
   "outputs": [],
   "source": [
    "using CSV\n",
    "\"\"\" Provided you have a saved and valid .csv file in your current working directory, you may \n",
    "    load this file as a Dataframe using the following syntax. \n",
    "\"\"\"\n",
    "iris = CSV.read(\"iris_data.csv\")\n",
    "iris = iris[1:100,1:5]"
   ]
  },
  {
   "cell_type": "code",
   "execution_count": null,
   "metadata": {},
   "outputs": [],
   "source": [
    "# We will only use the sepal length and width for our analysis \n",
    "data = [x for x in zip(iris[1], iris[2], iris[5])]"
   ]
  },
  {
   "cell_type": "markdown",
   "metadata": {},
   "source": [
    "Notice the following cell and associated plot illustrates linearily seperable data.\n"
   ]
  },
  {
   "cell_type": "code",
   "execution_count": null,
   "metadata": {},
   "outputs": [],
   "source": [
    "using Plots\n",
    "scatter([x[1:2] for x in data if x[3] == \"setosa\"], label = \"setosa\")\n",
    "scatter!([x[1:2] for x in data if x[3] != \"setosa\"], label = \"versicolor\")\n",
    "plot!(title = \"Iris 2-D Data\", xlabel = \"Sepal Length\", ylabel = \"Sepal Width\")                      "
   ]
  },
  {
   "cell_type": "code",
   "execution_count": null,
   "metadata": {},
   "outputs": [],
   "source": [
    "# Assign X: input data\n",
    "# Assign Y: known values \n",
    "X, Y = [[x[1], x[2]] for x in data], [x[3] == \"setosa\" ? 1 : -1 for x in data]"
   ]
  },
  {
   "cell_type": "code",
   "execution_count": null,
   "metadata": {},
   "outputs": [],
   "source": [
    "# Assign random weights\n",
    "w = rand(3)\n",
    "\n",
    "# Perceptron Hypothesis Function \n",
    "function h(w, x)\n",
    "    x_new = [1.0, x[1], x[2]]\n",
    "    return w'x_new > 0 ? 1 : -1\n",
    "end"
   ]
  },
  {
   "cell_type": "code",
   "execution_count": null,
   "metadata": {},
   "outputs": [],
   "source": [
    "# Perceptron Learning Algorithm \n",
    "function PLA(w, x, y)\n",
    "    if h(w, x) != y\n",
    "        w += y*[1.0, x[1], x[2]]\n",
    "    end\n",
    "    return w\n",
    "end"
   ]
  },
  {
   "cell_type": "code",
   "execution_count": null,
   "metadata": {},
   "outputs": [],
   "source": [
    "# Iterate the PLA 20 times \n",
    "for i = 1:1000\n",
    "    # Choose random entries to update (if possible )\n",
    "    j = rand(1:100)\n",
    "    w = PLA(w, X[j], Y[j])\n",
    "end"
   ]
  },
  {
   "cell_type": "code",
   "execution_count": null,
   "metadata": {},
   "outputs": [],
   "source": [
    "# Check errors\n",
    "temp_error = 0\n",
    "for i = 1:100\n",
    "    if abs(h(w, X[i]) - Y[i]) != 0\n",
    "        temp_error += 1\n",
    "    end\n",
    "end\n",
    "println(\"After 1000 terations, we have $temp_error number of errors\")\n"
   ]
  },
  {
   "cell_type": "code",
   "execution_count": null,
   "metadata": {},
   "outputs": [],
   "source": []
  }
 ],
 "metadata": {
  "@webio": {
   "lastCommId": "640c004416874256962a17a0c665c093",
   "lastKernelId": "30ff9c0c-645e-4aa7-ab5a-35065fe9c1ec"
  },
  "kernelspec": {
   "display_name": "Julia 1.0.1",
   "language": "julia",
   "name": "julia-1.0"
  },
  "language_info": {
   "file_extension": ".jl",
   "mimetype": "application/julia",
   "name": "julia",
   "version": "1.0.1"
  }
 },
 "nbformat": 4,
 "nbformat_minor": 2
}
