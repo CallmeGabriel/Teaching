{
 "cells": [
  {
   "cell_type": "code",
   "execution_count": 1,
   "metadata": {},
   "outputs": [
    {
     "name": "stderr",
     "output_type": "stream",
     "text": [
      "┌ Info: Precompiling GeoStats [dcc97b0b-8ce5-5539-9008-bb190f959ef6]\n",
      "└ @ Base loading.jl:1192\n",
      "┌ Info: Recompiling stale cache file /Users/randydavila/.julia/compiled/v1.0/Plots/ld3vC.ji for Plots [91a5bcdd-55d7-5caf-9e0b-520d859cae80]\n",
      "└ @ Base loading.jl:1190\n"
     ]
    },
    {
     "ename": "ArgumentError",
     "evalue": "ArgumentError: \"data.csv\" is not a valid file",
     "output_type": "error",
     "traceback": [
      "ArgumentError: \"data.csv\" is not a valid file",
      "",
      "Stacktrace:",
      " [1] #File#1(::Int64, ::Bool, ::Int64, ::Nothing, ::Int64, ::Nothing, ::Bool, ::Nothing, ::Bool, ::Array{String,1}, ::String, ::String, ::Bool, ::Char, ::Nothing, ::Nothing, ::Char, ::Nothing, ::Nothing, ::Nothing, ::Nothing, ::Nothing, ::Dict{Type,Type}, ::Symbol, ::Bool, ::Bool, ::Bool, ::Bool, ::Base.Iterators.Pairs{Union{},Union{},Tuple{},NamedTuple{(),Tuple{}}}, ::Type, ::String) at /Users/randydavila/.julia/packages/CSV/eWuJV/src/CSV.jl:135",
      " [2] Type at /Users/randydavila/.julia/packages/CSV/eWuJV/src/CSV.jl:135 [inlined]",
      " [3] #read#105(::Bool, ::Dict{Int64,Function}, ::Base.Iterators.Pairs{Union{},Union{},Tuple{},NamedTuple{(),Tuple{}}}, ::Function, ::String, ::Type) at /Users/randydavila/.julia/packages/CSV/eWuJV/src/CSV.jl:310",
      " [4] read at /Users/randydavila/.julia/packages/CSV/eWuJV/src/CSV.jl:300 [inlined] (repeats 2 times)",
      " [5] #readgeotable#52(::Array{Symbol,1}, ::Base.Iterators.Pairs{Union{},Union{},Tuple{},NamedTuple{(),Tuple{}}}, ::Function, ::String) at /Users/randydavila/.julia/packages/GeoStatsDevTools/0b4hw/src/utils.jl:49",
      " [6] (::getfield(GeoStatsDevTools, Symbol(\"#kw##readgeotable\")))(::NamedTuple{(:coordnames,),Tuple{Array{Symbol,1}}}, ::typeof(readgeotable), ::String) at ./none:0",
      " [7] top-level scope at In[1]:3"
     ]
    }
   ],
   "source": [
    "using GeoStats\n",
    "using Plots\n",
    "\n",
    "# data.csv:\n",
    "#    x,    y,       station, precipitation\n",
    "# 25.0, 25.0,     palo alto,           1.0\n",
    "# 50.0, 75.0,  redwood city,           0.0\n",
    "# 75.0, 50.0, mountain view,           1.0\n",
    "\n",
    "# read spreadsheet file containing spatial data\n",
    "geodata = readgeotable(\"data.csv\", coordnames=[:x,:y])\n",
    "\n",
    "# define spatial domain (e.g. regular grid, point collection)\n",
    "grid = RegularGrid{Float64}(100, 100)\n",
    "\n",
    "# define estimation problem for any data column(s) (e.g. :precipitation)\n",
    "problem = EstimationProblem(geodata, grid, :precipitation)\n",
    "\n",
    "# choose a solver from the list of solvers\n",
    "solver = Kriging(\n",
    "  :precipitation => (variogram=GaussianVariogram(range=35.),)\n",
    ")\n",
    "\n",
    "# solve the problem\n",
    "solution = solve(problem, solver)\n",
    "\n",
    "# plot the solution\n",
    "plot(solution)"
   ]
  },
  {
   "cell_type": "code",
   "execution_count": null,
   "metadata": {},
   "outputs": [],
   "source": []
  }
 ],
 "metadata": {
  "kernelspec": {
   "display_name": "Julia 1.0.3",
   "language": "julia",
   "name": "julia-1.0"
  },
  "language_info": {
   "file_extension": ".jl",
   "mimetype": "application/julia",
   "name": "julia",
   "version": "1.0.3"
  }
 },
 "nbformat": 4,
 "nbformat_minor": 2
}
