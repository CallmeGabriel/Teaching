{
 "cells": [
  {
   "cell_type": "markdown",
   "metadata": {},
   "source": [
    "# DATA 4319: Statistical & Machine Learning\n",
    "\n",
    "## Learning from Data: Problem 1.4\n",
    "\n",
    "In this notebook we solve Problem 1.4 from the textbook \"Learning from Data\". \n",
    "\n",
    "(a) Generate a linearly seperable data set of size 20 as indicated in Excercise 1.4. Plot the examples $\\{(\\mathbf{x}_n, y_n)\\}$ as well as target function $f$ on a plan. Be sure to mark the examples from different classes differently, and add labels to the axes of the plot. "
   ]
  },
  {
   "cell_type": "code",
   "execution_count": null,
   "metadata": {},
   "outputs": [],
   "source": [
    "# Import Plots package for visualization \n",
    "using Plots"
   ]
  },
  {
   "cell_type": "code",
   "execution_count": null,
   "metadata": {},
   "outputs": [],
   "source": [
    "function make_random_linearSeparable_data(n, ϵ)\n",
    "    w = rand(2)\n",
    "    w[2] = w[2]/5\n",
    "    Data = rand(n,2)\n",
    "    Data = [(Data[i,1], Data[i,2]) for i = 1:n \n",
    "            if abs(Data[i,2] - w[1]*Data[i,1] - w[2]) > ϵ]\n",
    "    Y = [Data[i][2] > w[1]*Data[i][1] + w[2] ? 1 : -1 for i = 1:size(Data)[1]]   \n",
    "    return Data, Y, w\n",
    "end"
   ]
  },
  {
   "cell_type": "code",
   "execution_count": null,
   "metadata": {},
   "outputs": [],
   "source": [
    "D, Y, coeff = make_random_linearSeparable_data(50, 0.02);"
   ]
  },
  {
   "cell_type": "code",
   "execution_count": null,
   "metadata": {},
   "outputs": [],
   "source": [
    "scatter(D, label = \"original\")\n",
    "plot!(x -> coeff[1]*x + coeff[2], label = \"Optimal\")"
   ]
  },
  {
   "cell_type": "code",
   "execution_count": null,
   "metadata": {},
   "outputs": [],
   "source": [
    "function perceptron(data, labels, w)\n",
    "        \n",
    "    # Define hypothesis function \n",
    "    h(x) = w'*[1.0, x[1], x[2]] < 0 ? -1 : 1\n",
    "    \n",
    "    for i = 1:size(data)[1]\n",
    "        if h(data[i]) != labels[i]\n",
    "            w += labels[i]*[1.0, data[i][1], data[i][2]]\n",
    "        end\n",
    "    end\n",
    "    return w\n",
    "end  "
   ]
  },
  {
   "cell_type": "code",
   "execution_count": null,
   "metadata": {},
   "outputs": [],
   "source": [
    "w = perceptron(D, Y, rand(3));"
   ]
  },
  {
   "cell_type": "code",
   "execution_count": null,
   "metadata": {},
   "outputs": [],
   "source": [
    "plot!(x -> (-w[1]-w[2]*x)/w[3], label = \"One\")"
   ]
  },
  {
   "cell_type": "code",
   "execution_count": null,
   "metadata": {},
   "outputs": [],
   "source": [
    "w = perceptron(D, Y, w);"
   ]
  },
  {
   "cell_type": "code",
   "execution_count": null,
   "metadata": {},
   "outputs": [],
   "source": [
    "plot!(x -> (-w[1]-w[2]*x)/w[3],label=\"two\")"
   ]
  },
  {
   "cell_type": "code",
   "execution_count": null,
   "metadata": {},
   "outputs": [],
   "source": [
    "w = perceptron(D, Y, w)\n",
    "plot!(x -> (-w[1]-w[2]*x)/w[3], label=\"three\")"
   ]
  },
  {
   "cell_type": "code",
   "execution_count": null,
   "metadata": {},
   "outputs": [],
   "source": [
    "w = perceptron(D, Y, w)\n",
    "plot!(x -> (-w[1]-w[2]*x)/w[3], label=\"four\")"
   ]
  },
  {
   "cell_type": "code",
   "execution_count": null,
   "metadata": {},
   "outputs": [],
   "source": [
    "w = perceptron(D, Y, w)\n",
    "plot!(x -> (-w[1]-w[2]*x)/w[3], label=\"five\")"
   ]
  },
  {
   "cell_type": "code",
   "execution_count": null,
   "metadata": {},
   "outputs": [],
   "source": [
    "w = perceptron(D, Y, w)\n",
    "scatter(D, label = \"data\")\n",
    "plot!(x -> coeff[1]*x + coeff[2], label = \"Target: f(x)\")\n",
    "plot!(x -> (-w[1]-w[2]*x)/w[3], label=\"Approx: g(x)\")"
   ]
  },
  {
   "cell_type": "code",
   "execution_count": null,
   "metadata": {},
   "outputs": [],
   "source": [
    "X = zeros(48,2)\n",
    "for i = 1:48\n",
    "    X[i,1], X[i,2] = D[i][1], D[i][2]\n",
    "end\n"
   ]
  },
  {
   "cell_type": "code",
   "execution_count": null,
   "metadata": {},
   "outputs": [],
   "source": [
    "X"
   ]
  },
  {
   "cell_type": "code",
   "execution_count": null,
   "metadata": {},
   "outputs": [],
   "source": [
    "Y"
   ]
  },
  {
   "cell_type": "code",
   "execution_count": null,
   "metadata": {},
   "outputs": [],
   "source": [
    "w = X'*X\\ X'*Y"
   ]
  },
  {
   "cell_type": "code",
   "execution_count": null,
   "metadata": {},
   "outputs": [],
   "source": [
    "scatter(D)"
   ]
  },
  {
   "cell_type": "code",
   "execution_count": null,
   "metadata": {},
   "outputs": [],
   "source": [
    "plot!(x -> (-w[1]*x)/w[2], label = \"One\")"
   ]
  },
  {
   "cell_type": "code",
   "execution_count": 1,
   "metadata": {},
   "outputs": [],
   "source": [
    "using RDatasets"
   ]
  },
  {
   "cell_type": "code",
   "execution_count": null,
   "metadata": {},
   "outputs": [],
   "source": [
    "data = RDatasets.datasets(\"Exam\")"
   ]
  },
  {
   "cell_type": "code",
   "execution_count": 4,
   "metadata": {},
   "outputs": [
    {
     "name": "stdout",
     "output_type": "stream",
     "text": [
      "warning: failed parsing String on row=161, col=3, error=INVALID: OK, QUOTED, DELIMITED, INVALID_DELIMITER\n"
     ]
    },
    {
     "data": {
      "text/html": [
       "<table class=\"data-frame\"><thead><tr><th></th><th>Package</th><th>Dataset</th><th>Title</th><th>Rows</th><th>Columns</th></tr><tr><th></th><th>String⍰</th><th>String⍰</th><th>String⍰</th><th>Int64⍰</th><th>Int64⍰</th></tr></thead><tbody><p>0 rows × 5 columns</p></tbody></table>"
      ],
      "text/latex": [
       "\\begin{tabular}{r|ccccc}\n",
       "\t& Package & Dataset & Title & Rows & Columns\\\\\n",
       "\t\\hline\n",
       "\t& String⍰ & String⍰ & String⍰ & Int64⍰ & Int64⍰\\\\\n",
       "\t\\hline\n",
       "\\end{tabular}\n"
      ],
      "text/plain": [
       "0×5 DataFrame\n"
      ]
     },
     "execution_count": 4,
     "metadata": {},
     "output_type": "execute_result"
    }
   ],
   "source": [
    "data = RDatasets.datasets(\"Chem97\")"
   ]
  },
  {
   "cell_type": "code",
   "execution_count": 6,
   "metadata": {},
   "outputs": [
    {
     "data": {
      "text/html": [
       "<table class=\"data-frame\"><thead><tr><th></th><th>Lea</th><th>School</th><th>Student</th><th>Score</th><th>Gender</th><th>Age</th><th>GCSEScore</th><th>GCSECnt</th></tr><tr><th></th><th>Categorical…</th><th>Categorical…</th><th>Categorical…</th><th>Int32</th><th>Categorical…</th><th>Int32</th><th>Float64</th><th>Float64</th></tr></thead><tbody><p>31,022 rows × 8 columns</p><tr><th>1</th><td>1</td><td>1</td><td>1</td><td>4</td><td>F</td><td>3</td><td>6.625</td><td>0.339316</td></tr><tr><th>2</th><td>1</td><td>1</td><td>2</td><td>10</td><td>F</td><td>-3</td><td>7.625</td><td>1.33932</td></tr><tr><th>3</th><td>1</td><td>1</td><td>3</td><td>10</td><td>F</td><td>-4</td><td>7.25</td><td>0.964316</td></tr><tr><th>4</th><td>1</td><td>1</td><td>4</td><td>10</td><td>F</td><td>-2</td><td>7.5</td><td>1.21432</td></tr><tr><th>5</th><td>1</td><td>1</td><td>5</td><td>8</td><td>F</td><td>-1</td><td>6.444</td><td>0.158316</td></tr><tr><th>6</th><td>1</td><td>1</td><td>6</td><td>10</td><td>F</td><td>4</td><td>7.75</td><td>1.46432</td></tr><tr><th>7</th><td>1</td><td>1</td><td>7</td><td>6</td><td>F</td><td>1</td><td>6.75</td><td>0.464316</td></tr><tr><th>8</th><td>1</td><td>1</td><td>8</td><td>8</td><td>F</td><td>4</td><td>6.909</td><td>0.623316</td></tr><tr><th>9</th><td>1</td><td>1</td><td>9</td><td>4</td><td>F</td><td>3</td><td>6.375</td><td>0.0893157</td></tr><tr><th>10</th><td>1</td><td>1</td><td>10</td><td>10</td><td>F</td><td>0</td><td>7.75</td><td>1.46432</td></tr><tr><th>11</th><td>1</td><td>1</td><td>11</td><td>10</td><td>F</td><td>-1</td><td>7.857</td><td>1.57132</td></tr><tr><th>12</th><td>1</td><td>1</td><td>12</td><td>8</td><td>F</td><td>1</td><td>7.333</td><td>1.04732</td></tr><tr><th>13</th><td>1</td><td>1</td><td>13</td><td>10</td><td>F</td><td>1</td><td>7.75</td><td>1.46432</td></tr><tr><th>14</th><td>1</td><td>2</td><td>14</td><td>10</td><td>M</td><td>0</td><td>7.7</td><td>1.41432</td></tr><tr><th>15</th><td>1</td><td>2</td><td>15</td><td>10</td><td>M</td><td>-4</td><td>6.3</td><td>0.0143157</td></tr><tr><th>16</th><td>1</td><td>2</td><td>16</td><td>10</td><td>M</td><td>5</td><td>7.3</td><td>1.01432</td></tr><tr><th>17</th><td>1</td><td>2</td><td>17</td><td>8</td><td>M</td><td>-3</td><td>6.636</td><td>0.350316</td></tr><tr><th>18</th><td>1</td><td>2</td><td>18</td><td>10</td><td>M</td><td>4</td><td>7.272</td><td>0.986316</td></tr><tr><th>19</th><td>1</td><td>2</td><td>19</td><td>10</td><td>M</td><td>0</td><td>7.2</td><td>0.914316</td></tr><tr><th>20</th><td>1</td><td>2</td><td>20</td><td>4</td><td>M</td><td>-3</td><td>6.454</td><td>0.168316</td></tr><tr><th>21</th><td>1</td><td>2</td><td>21</td><td>6</td><td>M</td><td>4</td><td>6.818</td><td>0.532316</td></tr><tr><th>22</th><td>1</td><td>2</td><td>22</td><td>10</td><td>M</td><td>-5</td><td>7.3</td><td>1.01432</td></tr><tr><th>23</th><td>1</td><td>2</td><td>23</td><td>2</td><td>M</td><td>-1</td><td>6.2</td><td>-0.0856843</td></tr><tr><th>24</th><td>1</td><td>2</td><td>24</td><td>10</td><td>M</td><td>-2</td><td>7.111</td><td>0.825316</td></tr><tr><th>25</th><td>1</td><td>2</td><td>25</td><td>10</td><td>M</td><td>2</td><td>6.8</td><td>0.514316</td></tr><tr><th>26</th><td>1</td><td>2</td><td>26</td><td>8</td><td>M</td><td>-4</td><td>6.5</td><td>0.214316</td></tr><tr><th>27</th><td>1</td><td>2</td><td>27</td><td>10</td><td>M</td><td>-5</td><td>6.727</td><td>0.441316</td></tr><tr><th>28</th><td>1</td><td>2</td><td>28</td><td>6</td><td>M</td><td>-6</td><td>7.0</td><td>0.714316</td></tr><tr><th>29</th><td>1</td><td>2</td><td>29</td><td>10</td><td>M</td><td>-2</td><td>7.7</td><td>1.41432</td></tr><tr><th>30</th><td>1</td><td>2</td><td>30</td><td>10</td><td>M</td><td>3</td><td>7.3</td><td>1.01432</td></tr><tr><th>&vellip;</th><td>&vellip;</td><td>&vellip;</td><td>&vellip;</td><td>&vellip;</td><td>&vellip;</td><td>&vellip;</td><td>&vellip;</td><td>&vellip;</td></tr></tbody></table>"
      ],
      "text/latex": [
       "\\begin{tabular}{r|cccccccc}\n",
       "\t& Lea & School & Student & Score & Gender & Age & GCSEScore & GCSECnt\\\\\n",
       "\t\\hline\n",
       "\t& Categorical… & Categorical… & Categorical… & Int32 & Categorical… & Int32 & Float64 & Float64\\\\\n",
       "\t\\hline\n",
       "\t1 & 1 & 1 & 1 & 4 & F & 3 & 6.625 & 0.339316 \\\\\n",
       "\t2 & 1 & 1 & 2 & 10 & F & -3 & 7.625 & 1.33932 \\\\\n",
       "\t3 & 1 & 1 & 3 & 10 & F & -4 & 7.25 & 0.964316 \\\\\n",
       "\t4 & 1 & 1 & 4 & 10 & F & -2 & 7.5 & 1.21432 \\\\\n",
       "\t5 & 1 & 1 & 5 & 8 & F & -1 & 6.444 & 0.158316 \\\\\n",
       "\t6 & 1 & 1 & 6 & 10 & F & 4 & 7.75 & 1.46432 \\\\\n",
       "\t7 & 1 & 1 & 7 & 6 & F & 1 & 6.75 & 0.464316 \\\\\n",
       "\t8 & 1 & 1 & 8 & 8 & F & 4 & 6.909 & 0.623316 \\\\\n",
       "\t9 & 1 & 1 & 9 & 4 & F & 3 & 6.375 & 0.0893157 \\\\\n",
       "\t10 & 1 & 1 & 10 & 10 & F & 0 & 7.75 & 1.46432 \\\\\n",
       "\t11 & 1 & 1 & 11 & 10 & F & -1 & 7.857 & 1.57132 \\\\\n",
       "\t12 & 1 & 1 & 12 & 8 & F & 1 & 7.333 & 1.04732 \\\\\n",
       "\t13 & 1 & 1 & 13 & 10 & F & 1 & 7.75 & 1.46432 \\\\\n",
       "\t14 & 1 & 2 & 14 & 10 & M & 0 & 7.7 & 1.41432 \\\\\n",
       "\t15 & 1 & 2 & 15 & 10 & M & -4 & 6.3 & 0.0143157 \\\\\n",
       "\t16 & 1 & 2 & 16 & 10 & M & 5 & 7.3 & 1.01432 \\\\\n",
       "\t17 & 1 & 2 & 17 & 8 & M & -3 & 6.636 & 0.350316 \\\\\n",
       "\t18 & 1 & 2 & 18 & 10 & M & 4 & 7.272 & 0.986316 \\\\\n",
       "\t19 & 1 & 2 & 19 & 10 & M & 0 & 7.2 & 0.914316 \\\\\n",
       "\t20 & 1 & 2 & 20 & 4 & M & -3 & 6.454 & 0.168316 \\\\\n",
       "\t21 & 1 & 2 & 21 & 6 & M & 4 & 6.818 & 0.532316 \\\\\n",
       "\t22 & 1 & 2 & 22 & 10 & M & -5 & 7.3 & 1.01432 \\\\\n",
       "\t23 & 1 & 2 & 23 & 2 & M & -1 & 6.2 & -0.0856843 \\\\\n",
       "\t24 & 1 & 2 & 24 & 10 & M & -2 & 7.111 & 0.825316 \\\\\n",
       "\t25 & 1 & 2 & 25 & 10 & M & 2 & 6.8 & 0.514316 \\\\\n",
       "\t26 & 1 & 2 & 26 & 8 & M & -4 & 6.5 & 0.214316 \\\\\n",
       "\t27 & 1 & 2 & 27 & 10 & M & -5 & 6.727 & 0.441316 \\\\\n",
       "\t28 & 1 & 2 & 28 & 6 & M & -6 & 7.0 & 0.714316 \\\\\n",
       "\t29 & 1 & 2 & 29 & 10 & M & -2 & 7.7 & 1.41432 \\\\\n",
       "\t30 & 1 & 2 & 30 & 10 & M & 3 & 7.3 & 1.01432 \\\\\n",
       "\t$\\dots$ & $\\dots$ & $\\dots$ & $\\dots$ & $\\dots$ & $\\dots$ & $\\dots$ & $\\dots$ & $\\dots$ \\\\\n",
       "\\end{tabular}\n"
      ],
      "text/plain": [
       "31022×8 DataFrame. Omitted printing of 3 columns\n",
       "│ Row   │ Lea          │ School       │ Student      │ Score │ Gender       │\n",
       "│       │ \u001b[90mCategorical…\u001b[39m │ \u001b[90mCategorical…\u001b[39m │ \u001b[90mCategorical…\u001b[39m │ \u001b[90mInt32\u001b[39m │ \u001b[90mCategorical…\u001b[39m │\n",
       "├───────┼──────────────┼──────────────┼──────────────┼───────┼──────────────┤\n",
       "│ 1     │ 1            │ 1            │ 1            │ 4     │ F            │\n",
       "│ 2     │ 1            │ 1            │ 2            │ 10    │ F            │\n",
       "│ 3     │ 1            │ 1            │ 3            │ 10    │ F            │\n",
       "│ 4     │ 1            │ 1            │ 4            │ 10    │ F            │\n",
       "│ 5     │ 1            │ 1            │ 5            │ 8     │ F            │\n",
       "│ 6     │ 1            │ 1            │ 6            │ 10    │ F            │\n",
       "│ 7     │ 1            │ 1            │ 7            │ 6     │ F            │\n",
       "│ 8     │ 1            │ 1            │ 8            │ 8     │ F            │\n",
       "│ 9     │ 1            │ 1            │ 9            │ 4     │ F            │\n",
       "│ 10    │ 1            │ 1            │ 10           │ 10    │ F            │\n",
       "⋮\n",
       "│ 31012 │ 131          │ 2410         │ 31012        │ 8     │ F            │\n",
       "│ 31013 │ 131          │ 2410         │ 31013        │ 4     │ M            │\n",
       "│ 31014 │ 131          │ 2410         │ 31014        │ 6     │ F            │\n",
       "│ 31015 │ 131          │ 2410         │ 31015        │ 8     │ F            │\n",
       "│ 31016 │ 131          │ 2410         │ 31016        │ 10    │ F            │\n",
       "│ 31017 │ 131          │ 2410         │ 31017        │ 4     │ M            │\n",
       "│ 31018 │ 131          │ 2410         │ 31018        │ 4     │ M            │\n",
       "│ 31019 │ 131          │ 2410         │ 31019        │ 0     │ M            │\n",
       "│ 31020 │ 131          │ 2410         │ 31020        │ 4     │ M            │\n",
       "│ 31021 │ 131          │ 2410         │ 31021        │ 10    │ F            │\n",
       "│ 31022 │ 131          │ 2410         │ 31022        │ 4     │ F            │"
      ]
     },
     "execution_count": 6,
     "metadata": {},
     "output_type": "execute_result"
    }
   ],
   "source": [
    "Chem = dataset(\"mlmRev\", \"Chem97\")"
   ]
  },
  {
   "cell_type": "code",
   "execution_count": 8,
   "metadata": {},
   "outputs": [
    {
     "ename": "KeyError",
     "evalue": "KeyError: key \"OxBoys\" not found",
     "output_type": "error",
     "traceback": [
      "KeyError: key \"OxBoys\" not found",
      "",
      "Stacktrace:",
      " [1] getindex(::Dict{String,Any}, ::String) at ./dict.jl:478",
      " [2] dataset(::String, ::String) at /Users/randydavila/.julia/packages/RDatasets/1Ih8s/src/dataset.jl:21",
      " [3] top-level scope at In[8]:1"
     ]
    }
   ],
   "source": [
    "Ox = dataset(\"mlmRev\", \"OxBoys\")"
   ]
  },
  {
   "cell_type": "code",
   "execution_count": null,
   "metadata": {},
   "outputs": [],
   "source": []
  }
 ],
 "metadata": {
  "kernelspec": {
   "display_name": "Julia 1.0.3",
   "language": "julia",
   "name": "julia-1.0"
  },
  "language_info": {
   "file_extension": ".jl",
   "mimetype": "application/julia",
   "name": "julia",
   "version": "1.0.3"
  }
 },
 "nbformat": 4,
 "nbformat_minor": 2
}
