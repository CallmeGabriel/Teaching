{
 "cells": [
  {
   "cell_type": "markdown",
   "metadata": {},
   "source": [
    "# DATA 4319 (Statistical & Machine Learning)\n",
    "## Lecture 1. The Perceptron Learning Model\n",
    "\n",
    "In this notebook we will implement the perceptron learning model in order to classify data from the [iris data set](https://en.wikipedia.org/wiki/Iris_flower_data_set). Our task is to predict the species of flower based off of measurements of sepeal length and width. This task is often referred to as the ''Hello World'' of machine learning .  \n",
    "\n",
    "You will need to import the following packages:\n",
    "- CSV [(documentation)](https://juliadata.github.io/CSV.jl/stable/)\n",
    "- Plots [(documentation)](http://docs.juliaplots.org/latest/) \n",
    "\n"
   ]
  },
  {
   "cell_type": "code",
   "execution_count": null,
   "metadata": {},
   "outputs": [
    {
     "name": "stderr",
     "output_type": "stream",
     "text": [
      "┌ Info: Precompiling CSV [336ed68f-0bac-5ca0-87d4-7b16caf5d00b]\n",
      "└ @ Base loading.jl:1189\n"
     ]
    }
   ],
   "source": [
    "using CSV\n",
    "\"\"\" Provided you have a saved and valid .csv file in your current working directory, you may \n",
    "    load this file as a Dataframe using the following syntax. \n",
    "\"\"\"\n",
    "iris = CSV.read(\"iris_data.csv\")\n",
    "iris = iris[1:100,1:5]"
   ]
  },
  {
   "cell_type": "code",
   "execution_count": null,
   "metadata": {},
   "outputs": [],
   "source": [
    "# We will only use the sepal length and width for our analysis \n",
    "data = [x for x in zip(iris[1], iris[2], iris[5])]"
   ]
  },
  {
   "cell_type": "code",
   "execution_count": null,
   "metadata": {},
   "outputs": [],
   "source": [
    "using Plots\n",
    "scatter([x[1:2] for x in data if x[3] == \"setosa\"], label = \"setosa\")\n",
    "scatter!([x[1:2] for x in data if x[3] != \"setosa\"], label = \"versicolor\")\n",
    "plot!(title = \"Iris 2-D Data\", xlabel = \"Sepal Length\", ylabel = \"Sepal Width\")                      "
   ]
  },
  {
   "cell_type": "code",
   "execution_count": null,
   "metadata": {},
   "outputs": [],
   "source": [
    "# Assign X: input data\n",
    "# Assign Y: known values \n",
    "X, Y = [[x[1], x[2]] for x in data], [x[3] == \"setosa\" ? 1 : -1 for x in data]"
   ]
  },
  {
   "cell_type": "code",
   "execution_count": null,
   "metadata": {},
   "outputs": [],
   "source": [
    "# Assign random weights\n",
    "w = rand(3)"
   ]
  },
  {
   "cell_type": "code",
   "execution_count": null,
   "metadata": {},
   "outputs": [],
   "source": [
    "# Perceptron Hypothesis Function \n",
    "function h(w, x)\n",
    "    x_new = [1.0, x[1], x[2]]\n",
    "    return w'x_new > 0 ? 1 : -1\n",
    "end"
   ]
  },
  {
   "cell_type": "code",
   "execution_count": null,
   "metadata": {},
   "outputs": [],
   "source": [
    "# Perceptron Learning Algorithm \n",
    "function PLA(w, x, y)\n",
    "    if h(w, x) != y\n",
    "        w += y*[1.0, x[1], x[2]]\n",
    "    end\n",
    "    return w\n",
    "end"
   ]
  },
  {
   "cell_type": "code",
   "execution_count": null,
   "metadata": {},
   "outputs": [],
   "source": [
    "# Iterate the PLA 100 times \n",
    "for i = 1:100\n",
    "    j = rand(1:100)\n",
    "    w = PLA(w, X[j], Y[j])\n",
    "end\n",
    "   "
   ]
  }
 ],
 "metadata": {
  "@webio": {
   "lastCommId": "8391fe87fd9e47428ca9ae88fc12c314",
   "lastKernelId": "30ff9c0c-645e-4aa7-ab5a-35065fe9c1ec"
  },
  "kernelspec": {
   "display_name": "Julia 1.0.1",
   "language": "julia",
   "name": "julia-1.0"
  },
  "language_info": {
   "file_extension": ".jl",
   "mimetype": "application/julia",
   "name": "julia",
   "version": "1.0.1"
  }
 },
 "nbformat": 4,
 "nbformat_minor": 2
}
