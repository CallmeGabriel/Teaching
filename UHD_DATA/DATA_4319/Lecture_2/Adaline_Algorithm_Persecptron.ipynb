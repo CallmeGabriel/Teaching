{
 "cells": [
  {
   "cell_type": "markdown",
   "metadata": {},
   "source": [
    "# DATA 4319: Statistical & Machine Learning \n",
    "\n",
    "## Lecture 2: Adaptive Linear Neuron Algorithm for Perceptron Learning \n",
    "\n",
    "In this notebook wel implement the adaptive linear neuron algorithm for perceptron learning. This algorithm is described in $\\textbf{Problem 1.5}$ from the textbook. "
   ]
  },
  {
   "cell_type": "code",
   "execution_count": null,
   "metadata": {},
   "outputs": [],
   "source": []
  }
 ],
 "metadata": {
  "kernelspec": {
   "display_name": "Julia 1.0.3",
   "language": "julia",
   "name": "julia-1.0"
  },
  "language_info": {
   "file_extension": ".jl",
   "mimetype": "application/julia",
   "name": "julia",
   "version": "1.0.3"
  }
 },
 "nbformat": 4,
 "nbformat_minor": 2
}
